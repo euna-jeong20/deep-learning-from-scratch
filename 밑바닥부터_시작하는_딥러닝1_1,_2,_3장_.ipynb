{
  "nbformat": 4,
  "nbformat_minor": 0,
  "metadata": {
    "colab": {
      "name": "밑바닥부터 시작하는 딥러닝1 - 1, 2, 3장 .ipynb",
      "provenance": [],
      "collapsed_sections": [],
      "mount_file_id": "1OZloVfMHuGLQWJcT7COFmztxAAaApGPo",
      "authorship_tag": "ABX9TyO9hP4h2EdX/8yHRwFGiOx7",
      "include_colab_link": true
    },
    "kernelspec": {
      "name": "python3",
      "display_name": "Python 3"
    }
  },
  "cells": [
    {
      "cell_type": "markdown",
      "metadata": {
        "id": "view-in-github",
        "colab_type": "text"
      },
      "source": [
        "<a href=\"https://colab.research.google.com/github/euna-jeong20/deep-learning-from-scratch/blob/main/%EB%B0%91%EB%B0%94%EB%8B%A5%EB%B6%80%ED%84%B0_%EC%8B%9C%EC%9E%91%ED%95%98%EB%8A%94_%EB%94%A5%EB%9F%AC%EB%8B%9D1_1%2C_2%2C_3%EC%9E%A5_.ipynb\" target=\"_parent\"><img src=\"https://colab.research.google.com/assets/colab-badge.svg\" alt=\"Open In Colab\"/></a>"
      ]
    },
    {
      "cell_type": "markdown",
      "metadata": {
        "id": "K0oDyjrgh6uA"
      },
      "source": [
        "#1장 헬로 파이썬"
      ]
    },
    {
      "cell_type": "markdown",
      "metadata": {
        "id": "0X4X2ahyl9yH"
      },
      "source": [
        "##1.5 넘파이"
      ]
    },
    {
      "cell_type": "markdown",
      "metadata": {
        "id": "nE1qEbOGkIMd"
      },
      "source": [
        "##1.5.2 넘파이 배열 생성하기"
      ]
    },
    {
      "cell_type": "code",
      "metadata": {
        "id": "Ngc5RXWxb4VJ",
        "colab": {
          "base_uri": "https://localhost:8080/"
        },
        "outputId": "4b632f86-368d-498b-8816-f87e4a51622f"
      },
      "source": [
        "#넘파이 배열 생성하기 p37\n",
        "import numpy as np\n",
        "\n",
        "x= np.array([1.0, 2.0, 3.0])\n",
        "print(x)\n",
        "print(type(x))\n",
        "print(x.dtype)    #리스트안에 원소가 무엇인지 확인하기"
      ],
      "execution_count": null,
      "outputs": [
        {
          "output_type": "stream",
          "text": [
            "[1. 2. 3.]\n",
            "<class 'numpy.ndarray'>\n",
            "float64\n"
          ],
          "name": "stdout"
        }
      ]
    },
    {
      "cell_type": "markdown",
      "metadata": {
        "id": "VL3TUDk0kXs9"
      },
      "source": [
        "##1.5.3 넘파이의 산술 연산"
      ]
    },
    {
      "cell_type": "code",
      "metadata": {
        "colab": {
          "base_uri": "https://localhost:8080/"
        },
        "id": "FA7R63HWgaJF",
        "outputId": "637204ae-6659-4bc6-adbd-3b05da29c188"
      },
      "source": [
        "import numpy as np\n",
        "\n",
        "x = np.array([1.0, 2.0, 3.0])\n",
        "y = np.array([2.0, 4.0, 6.0])\n",
        "print(x + y)        #원소별 덧셈\n",
        "print(x - y)        \n",
        "print(x * y)        #원소별 곱셈\n",
        "print(x / y) "
      ],
      "execution_count": null,
      "outputs": [
        {
          "output_type": "stream",
          "text": [
            "[3. 6. 9.]\n",
            "[-1. -2. -3.]\n",
            "[ 2.  8. 18.]\n",
            "[0.5 0.5 0.5]\n"
          ],
          "name": "stdout"
        }
      ]
    },
    {
      "cell_type": "code",
      "metadata": {
        "colab": {
          "base_uri": "https://localhost:8080/"
        },
        "id": "qcfh5APEhc38",
        "outputId": "587810b9-249e-4484-d80f-f19736bb8dde"
      },
      "source": [
        "import numpy as np\n",
        "\n",
        "x = np.array([1.0, 2.0, 3.0])\n",
        "x / 2.0       #넘파이 배열과 스칼라값의 산술 연산 - 브로드캐스트이용"
      ],
      "execution_count": null,
      "outputs": [
        {
          "output_type": "execute_result",
          "data": {
            "text/plain": [
              "array([0.5, 1. , 1.5])"
            ]
          },
          "metadata": {
            "tags": []
          },
          "execution_count": 4
        }
      ]
    },
    {
      "cell_type": "markdown",
      "metadata": {
        "id": "a_WIeQFQkeVW"
      },
      "source": [
        "##1.5.4 넘파이의 N차원 배열"
      ]
    },
    {
      "cell_type": "code",
      "metadata": {
        "id": "6T03wVByg4pN",
        "colab": {
          "base_uri": "https://localhost:8080/"
        },
        "outputId": "68f2bc91-41d7-4020-adc2-94afb7dcfdc6"
      },
      "source": [
        "import numpy as np      #다차원 배열 생성\n",
        "\n",
        "A = np.array ([[1,2], [3,4]])\n",
        "print(A)\n",
        "print(A.shape)\n",
        "print(A.dtype)          #자료형\n",
        "print(len(A))         #shape해서 나온 값( , , ,..)의 처음 원소값!!!!!!!"
      ],
      "execution_count": null,
      "outputs": [
        {
          "output_type": "stream",
          "text": [
            "[[1 2]\n",
            " [3 4]]\n",
            "(2, 2)\n",
            "int64\n",
            "2\n"
          ],
          "name": "stdout"
        }
      ]
    },
    {
      "cell_type": "code",
      "metadata": {
        "id": "9BZ9W7eJhU-7",
        "colab": {
          "base_uri": "https://localhost:8080/",
          "height": 87
        },
        "outputId": "51495edb-4fd3-4499-af63-950181be4a9f"
      },
      "source": [
        "import numpy as np      #같은 형상 끼리의 연산 -> 원소별로 계산된다\n",
        "\n",
        "B = np.array([[3,0], [0,6]])\n",
        "print(A + B)\n",
        "print(A * B)"
      ],
      "execution_count": null,
      "outputs": [
        {
          "output_type": "stream",
          "text": [
            "[[ 4  2]\n",
            " [ 3 10]]\n",
            "[[ 3  0]\n",
            " [ 0 24]]\n"
          ],
          "name": "stdout"
        }
      ]
    },
    {
      "cell_type": "code",
      "metadata": {
        "colab": {
          "base_uri": "https://localhost:8080/"
        },
        "id": "l0ZNH7XdiXCd",
        "outputId": "8c99328e-5b91-4bbe-a25a-04aca1163fac"
      },
      "source": [
        "import numpy as np\n",
        "\n",
        "print(A)\n",
        "print(A * 10)       #행렬과 스칼라값의 산술 연산 - 브로드캐스트"
      ],
      "execution_count": null,
      "outputs": [
        {
          "output_type": "stream",
          "text": [
            "[[1 2]\n",
            " [3 4]]\n",
            "[[10 20]\n",
            " [30 40]]\n"
          ],
          "name": "stdout"
        }
      ]
    },
    {
      "cell_type": "markdown",
      "metadata": {
        "id": "B1ZrLgcgirEC"
      },
      "source": [
        "*  1차원 배열은 **벡터**\n",
        "*  2차원 배열은 **행렬**\n",
        "*  벡터와 행렬을 일반화한것을 **텐서**"
      ]
    },
    {
      "cell_type": "code",
      "metadata": {
        "colab": {
          "base_uri": "https://localhost:8080/"
        },
        "id": "zFDSJ9FW7EIa",
        "outputId": "e5e34c13-d4c7-424a-9451-cf5c9bb8c577"
      },
      "source": [
        "import numpy as np\n",
        "X = np.array([1, 2])\n",
        "print(X.shape)\n",
        "\n",
        "Y = np.array([[1, 2]])\n",
        "print(Y.shape)"
      ],
      "execution_count": null,
      "outputs": [
        {
          "output_type": "stream",
          "text": [
            "(2,)\n",
            "(1, 2)\n"
          ],
          "name": "stdout"
        }
      ]
    },
    {
      "cell_type": "markdown",
      "metadata": {
        "id": "he6cNA6jkxc4"
      },
      "source": [
        "##1.5.5 브로드캐스트"
      ]
    },
    {
      "cell_type": "code",
      "metadata": {
        "colab": {
          "base_uri": "https://localhost:8080/"
        },
        "id": "IpXAqGP6jIiq",
        "outputId": "3ebaf4c5-19a0-4e78-a30c-e584913f4739"
      },
      "source": [
        "import numpy as np\n",
        "\n",
        "A = np.array([[1,2], [3, 4]])\n",
        "B = np.array([10, 20])\n",
        "print(A * B)\n",
        "\n",
        "#   1|2     *     10|20\n",
        "#   3|4           10|20       <-브로드캐스트로 변형된 후 원소별곱셉"
      ],
      "execution_count": null,
      "outputs": [
        {
          "output_type": "stream",
          "text": [
            "[[10 40]\n",
            " [30 80]]\n"
          ],
          "name": "stdout"
        }
      ]
    },
    {
      "cell_type": "markdown",
      "metadata": {
        "id": "ty6gHneOk1-L"
      },
      "source": [
        "##1.5.6 원소 접근"
      ]
    },
    {
      "cell_type": "code",
      "metadata": {
        "id": "5Dw4iesGh0dt",
        "colab": {
          "base_uri": "https://localhost:8080/"
        },
        "outputId": "7fb88e5d-4c7e-41f8-b576-703777f3c279"
      },
      "source": [
        "import numpy as np\n",
        "\n",
        "X= np.array([[51,55], [14,19], [0,4]])\n",
        "print(X)\n",
        "print('-------------')\n",
        "print(X[0])       # 0행\n",
        "print('-------------')\n",
        "print(X[0][1])    # (0, 1) 위치의 원소"
      ],
      "execution_count": null,
      "outputs": [
        {
          "output_type": "stream",
          "text": [
            "[[51 55]\n",
            " [14 19]\n",
            " [ 0  4]]\n",
            "-------------\n",
            "[51 55]\n",
            "-------------\n",
            "55\n"
          ],
          "name": "stdout"
        }
      ]
    },
    {
      "cell_type": "code",
      "metadata": {
        "id": "huGoEWb9iq48",
        "colab": {
          "base_uri": "https://localhost:8080/",
          "height": 70
        },
        "outputId": "af87bb9d-466e-4188-85ef-f36f8ea8a4a7"
      },
      "source": [
        "import numpy as np    # for문으로 각 원소 접근하기\n",
        "\n",
        "for row in X:\n",
        "  print(row)\n",
        "  "
      ],
      "execution_count": null,
      "outputs": [
        {
          "output_type": "stream",
          "text": [
            "[51 55]\n",
            "[14 19]\n",
            "[0 4]\n"
          ],
          "name": "stdout"
        }
      ]
    },
    {
      "cell_type": "code",
      "metadata": {
        "id": "KW_5WPTxF5Lh"
      },
      "source": [
        "#2차원 슬라이싱\n",
        "X[:, 1:2]"
      ],
      "execution_count": null,
      "outputs": []
    },
    {
      "cell_type": "code",
      "metadata": {
        "id": "ohaL6GlCi_0l",
        "colab": {
          "base_uri": "https://localhost:8080/",
          "height": 34
        },
        "outputId": "651979f2-eb5f-4892-a7e2-ac74942cd041"
      },
      "source": [
        "X = X.flatten()   #X를 1차원 배열로 변환\n",
        "print(X)"
      ],
      "execution_count": null,
      "outputs": [
        {
          "output_type": "stream",
          "text": [
            "[51 55 14 19  0  4]\n"
          ],
          "name": "stdout"
        }
      ]
    },
    {
      "cell_type": "code",
      "metadata": {
        "id": "5MRd0tCVjQ2R",
        "colab": {
          "base_uri": "https://localhost:8080/",
          "height": 34
        },
        "outputId": "435d4591-d88f-4124-b05f-9679f682da72"
      },
      "source": [
        "X[np.array([0,2,4])]  #인덱스가 0,2,4인 원소 얻기"
      ],
      "execution_count": null,
      "outputs": [
        {
          "output_type": "execute_result",
          "data": {
            "text/plain": [
              "array([51, 14,  0])"
            ]
          },
          "metadata": {
            "tags": []
          },
          "execution_count": 42
        }
      ]
    },
    {
      "cell_type": "code",
      "metadata": {
        "id": "5GHsoOeIjcB2",
        "colab": {
          "base_uri": "https://localhost:8080/",
          "height": 34
        },
        "outputId": "9586ef71-a626-4df9-b4db-7af698b3d2c3"
      },
      "source": [
        "X >15"
      ],
      "execution_count": null,
      "outputs": [
        {
          "output_type": "execute_result",
          "data": {
            "text/plain": [
              "array([ True,  True, False,  True, False, False])"
            ]
          },
          "metadata": {
            "tags": []
          },
          "execution_count": 43
        }
      ]
    },
    {
      "cell_type": "code",
      "metadata": {
        "id": "Nz_CLabcjoRF",
        "colab": {
          "base_uri": "https://localhost:8080/",
          "height": 34
        },
        "outputId": "7cabd5a1-5283-4750-b6b3-9604f6544b43"
      },
      "source": [
        "X[X>15]       #15보다 큰 원소만 가져온다"
      ],
      "execution_count": null,
      "outputs": [
        {
          "output_type": "execute_result",
          "data": {
            "text/plain": [
              "array([51, 55, 19])"
            ]
          },
          "metadata": {
            "tags": []
          },
          "execution_count": 44
        }
      ]
    },
    {
      "cell_type": "markdown",
      "metadata": {
        "id": "DQv2UON-lvC-"
      },
      "source": [
        "##1.6 matplotlib"
      ]
    },
    {
      "cell_type": "markdown",
      "metadata": {
        "id": "TH-qLZMal34w"
      },
      "source": [
        "##1.6.1 단순한 그래프 그리기"
      ]
    },
    {
      "cell_type": "code",
      "metadata": {
        "id": "-lhANGQkjqfv",
        "colab": {
          "base_uri": "https://localhost:8080/",
          "height": 265
        },
        "outputId": "36781a3c-8fd4-4ae8-94ec-5f4d82deda3e"
      },
      "source": [
        "import numpy as np\n",
        "import matplotlib.pyplot as plt\n",
        "\n",
        "# 데이터 준비\n",
        "x = np.arange(0, 6, 0.1)  # 0에서 6까지 0.1간격으로 생성  / 0 ~ 5.9\n",
        "y = np.sin(x)\n",
        "\n",
        "#그래프 그리기\n",
        "plt.plot(x,y)\n",
        "plt.show()      #이걸로 출력 꼭 하기"
      ],
      "execution_count": null,
      "outputs": [
        {
          "output_type": "display_data",
          "data": {
            "image/png": "[encoded data removed]",
            "text/plain": [
              "<Figure size 432x288 with 1 Axes>"
            ]
          },
          "metadata": {
            "tags": [],
            "needs_background": "light"
          }
        }
      ]
    },
    {
      "cell_type": "markdown",
      "metadata": {
        "id": "_MRkxoWCmxn0"
      },
      "source": [
        "##1.6.2 pyplot의 기능"
      ]
    },
    {
      "cell_type": "code",
      "metadata": {
        "id": "Rd8E2paNkdpo",
        "colab": {
          "base_uri": "https://localhost:8080/",
          "height": 295
        },
        "outputId": "31267792-c371-4abe-9e5e-d779e8c84b84"
      },
      "source": [
        "import numpy as np\n",
        "import matplotlib.pyplot as plt\n",
        "\n",
        "x = np.arange(0, 6 ,0.1)\n",
        "y1 = np.sin(x)\n",
        "y2 = np.cos(x)\n",
        "\n",
        "plt.plot(x, y1, label = \"sin\")\n",
        "plt.plot(x, y2, linestyle= \"--\", label =\"cos\")\n",
        "\n",
        "plt.xlabel(\"x\")\n",
        "plt.ylabel(\"y\")\n",
        "plt.title('sin&cos')    #제목\n",
        "plt.legend()            #범례 표시 ->데이터의 종류를 표시하기 위한 텍스트 (밑에 네모 박스)\n",
        "plt.show()"
      ],
      "execution_count": null,
      "outputs": [
        {
          "output_type": "display_data",
          "data": {
            "image/png": "[encoded data removed]",
            "text/plain": [
              "<Figure size 432x288 with 1 Axes>"
            ]
          },
          "metadata": {
            "tags": [],
            "needs_background": "light"
          }
        }
      ]
    },
    {
      "cell_type": "markdown",
      "metadata": {
        "id": "ELk0xFEWm3dp"
      },
      "source": [
        "##1.6.3 이미지 표시하기"
      ]
    },
    {
      "cell_type": "code",
      "metadata": {
        "id": "8X1SEEW1mJcB",
        "colab": {
          "base_uri": "https://localhost:8080/",
          "height": 203
        },
        "outputId": "f4dfd9be-5207-4361-dad4-9ac93c2492c7"
      },
      "source": [
        "import matplotlib.pyplot as plt\n",
        "from matplotlib.image import imread     #imread : 이미지를 표시해주는 메서드\n",
        "\n",
        "img = imread('/content/drive/My Drive/Colab Notebooks/lena.PNG')\n",
        "\n",
        "plt.imshow(img)\n",
        "plt.show()\n",
        "\n",
        "import cv2        #이미지 불러오는데 많이 쓰이는 거, opencv지가 찾아서 공부해라"
      ],
      "execution_count": null,
      "outputs": [
        {
          "output_type": "display_data",
          "data": {
            "image/png": "[encoded data removed]",
            "text/plain": [
              "<Figure size 432x288 with 1 Axes>"
            ]
          },
          "metadata": {
            "tags": [],
            "needs_background": "light"
          }
        }
      ]
    },
    {
      "cell_type": "markdown",
      "metadata": {
        "id": "aPhLf4YYWipr"
      },
      "source": [
        "#2장 퍼셉트론\n",
        "\n",
        "\n",
        "\n"
      ]
    },
    {
      "cell_type": "markdown",
      "metadata": {
        "id": "nKAeBMWRJmiy"
      },
      "source": [
        "* 퍼셉트론은 노드(뉴런)가 여러개(0개 이상)의 imput을 입력받아서 1개 이상의 output을 출력하는 구조를 말한다.\n",
        "* 이 책에서 퍼셉트롭을 여러 뜻으로 쓰니까 헷갈릴수있다.\n",
        "* 신경망이라고 쓰자"
      ]
    },
    {
      "cell_type": "markdown",
      "metadata": {
        "id": "LrOHT_c6n3j3"
      },
      "source": [
        "## 3.3 퍼셉트론 구현하기"
      ]
    },
    {
      "cell_type": "markdown",
      "metadata": {
        "id": "fceFMeqAn7Og"
      },
      "source": [
        "##2.3.1 간단한 구현부터"
      ]
    },
    {
      "cell_type": "code",
      "metadata": {
        "id": "OVlIqpAInNOI",
        "colab": {
          "base_uri": "https://localhost:8080/",
          "height": 87
        },
        "outputId": "f168acdd-c104-4a30-d452-a8f7081e3aff"
      },
      "source": [
        "def AND(x1, x2):\n",
        "  w1, w2, theta = 0.5, 0.5, 0.7\n",
        "  tmp = x1*w1 + x2*w2\n",
        "\n",
        "  if tmp <= theta:\n",
        "    return 0\n",
        "  elif tmp > theta:\n",
        "    return 1\n",
        "\n",
        "\n",
        "print(AND(0,0))\n",
        "print(AND(1,0))\n",
        "print(AND(0,1))\n",
        "print(AND(1,1))"
      ],
      "execution_count": null,
      "outputs": [
        {
          "output_type": "stream",
          "text": [
            "0\n",
            "0\n",
            "0\n",
            "1\n"
          ],
          "name": "stdout"
        }
      ]
    },
    {
      "cell_type": "markdown",
      "metadata": {
        "id": "XlTf4mXDoSEk"
      },
      "source": [
        "##2.3.2 가중치와 편향 도입"
      ]
    },
    {
      "cell_type": "code",
      "metadata": {
        "id": "v_ANmDoqzhL9",
        "colab": {
          "base_uri": "https://localhost:8080/",
          "height": 70
        },
        "outputId": "20a8fe69-46d8-414c-a0b0-819108c60167"
      },
      "source": [
        "import numpy as np\n",
        "\n",
        "x = np.array([0, 1])          # 입력  x1 = 0, x2 = 1\n",
        "w = np.array([0.5, 0.5])      # 가중치\n",
        "b= -0.7                       # 편향\n",
        "\n",
        "\n",
        "print(w*x)\n",
        "print(np.sum(w*x))            #입력한 배열에 담긴 모든 원소의 총합을 계산\n",
        "print(np.sum(w*x)+b)"
      ],
      "execution_count": null,
      "outputs": [
        {
          "output_type": "stream",
          "text": [
            "[0.  0.5]\n",
            "0.5\n",
            "-0.19999999999999996\n"
          ],
          "name": "stdout"
        }
      ]
    },
    {
      "cell_type": "markdown",
      "metadata": {
        "id": "QUMxlIstpDJv"
      },
      "source": [
        "##2.3.3 가중치와 편향 구현하기"
      ]
    },
    {
      "cell_type": "markdown",
      "metadata": {
        "id": "SBpPOLUnpIFh"
      },
      "source": [
        "*  가중치는 각 입력 신호가 결과에 주는 영향력(중요도)을 조절하는 매개변수\n",
        "\n",
        "*  편향은 뉴런이 얼마나 쉽게 활성화되는지 결정하는 매개변수\n",
        "*  가중치, 편향을 묶어서 가중치라 할 수도 있다"
      ]
    },
    {
      "cell_type": "code",
      "metadata": {
        "id": "6W8VLSB30p5a"
      },
      "source": [
        "def AND (x1, x2):\n",
        "  x = np.array([x1,x2])\n",
        "  w = np.array([0.5, 0.5])\n",
        "  b = - 0.7\n",
        "  tmp = np.sum(w*x) + b\n",
        "  if tmp <= theta:\n",
        "    return 0\n",
        "  else:\n",
        "    return 1"
      ],
      "execution_count": null,
      "outputs": []
    },
    {
      "cell_type": "code",
      "metadata": {
        "id": "3W6HUwTX10AL",
        "colab": {
          "base_uri": "https://localhost:8080/",
          "height": 87
        },
        "outputId": "46299c63-de5f-430d-ebae-503feac50064"
      },
      "source": [
        "def NAND(x1, x2):\n",
        "  x = np.array([x1, x2])\n",
        "  w = np.array([-0.5, -0.5])\n",
        "  b= 0.7\n",
        "  tmp = np.sum(w*x) + b\n",
        "  if tmp <=0:\n",
        "    return 0\n",
        "  else:\n",
        "    return 1 \n",
        "  \n",
        "  \n",
        "print(NAND(0,0))\n",
        "print(NAND(1,0))\n",
        "print(NAND(0,1))\n",
        "print(NAND(1,1))"
      ],
      "execution_count": null,
      "outputs": [
        {
          "output_type": "stream",
          "text": [
            "1\n",
            "1\n",
            "1\n",
            "0\n"
          ],
          "name": "stdout"
        }
      ]
    },
    {
      "cell_type": "code",
      "metadata": {
        "id": "LNuL-7_d2d-z",
        "colab": {
          "base_uri": "https://localhost:8080/",
          "height": 87
        },
        "outputId": "cc036ac4-d165-44a0-8c85-7da535fea534"
      },
      "source": [
        "def OR(x1, x2):\n",
        "  x = np.array([x1, x2])\n",
        "  w = np.array([0.5, 0.5])\n",
        "  b = -0.2\n",
        "  tmp = np.sum(w*x) + b\n",
        "  if tmp <= 0:\n",
        "    return 0\n",
        "  else:\n",
        "    return 1\n",
        "\n",
        "\n",
        "print(OR(0,0))\n",
        "print(OR(1,0))\n",
        "print(OR(0,1))\n",
        "print(OR(1,1))"
      ],
      "execution_count": null,
      "outputs": [
        {
          "output_type": "stream",
          "text": [
            "0\n",
            "1\n",
            "1\n",
            "1\n"
          ],
          "name": "stdout"
        }
      ]
    },
    {
      "cell_type": "markdown",
      "metadata": {
        "id": "gjfFD9lupxz_"
      },
      "source": [
        "##2.4 퍼셉트론의 한계"
      ]
    },
    {
      "cell_type": "markdown",
      "metadata": {
        "id": "1QmU1cskp1wd"
      },
      "source": [
        "##2.4.1 도전! XOR 게이트"
      ]
    },
    {
      "cell_type": "markdown",
      "metadata": {
        "id": "4r9h52cbp9td"
      },
      "source": [
        "![캡처.PNG](data:image/png;base64,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)"
      ]
    },
    {
      "cell_type": "markdown",
      "metadata": {
        "id": "PeHYswwerF51"
      },
      "source": [
        "*  같으면 0 다르면 1 "
      ]
    },
    {
      "cell_type": "code",
      "metadata": {
        "id": "JnRsmrth2tkh"
      },
      "source": [
        "def XOR(x1, x2):\n",
        "  s1 = NAND(x1, x2)\n",
        "  s2 = OR(x1,x2)\n",
        "\n",
        "  return AND(s1, s2) \n"
      ],
      "execution_count": null,
      "outputs": []
    },
    {
      "cell_type": "markdown",
      "metadata": {
        "id": "pCO76t6vv40D"
      },
      "source": [
        "# 3장 신경망\n"
      ]
    },
    {
      "cell_type": "markdown",
      "metadata": {
        "id": "tL6KqQs32iz7"
      },
      "source": [
        "##3.2.2 계단 함수 구현하기"
      ]
    },
    {
      "cell_type": "code",
      "metadata": {
        "id": "8vlML91Tkul6",
        "colab": {
          "base_uri": "https://localhost:8080/"
        },
        "outputId": "8b21e5f8-b180-43c5-f8f8-54982cf354ef"
      },
      "source": [
        "import numpy as np\n",
        "\n",
        "x = np.array([-1.0, 1.0, 2.0])\n",
        "print (x)\n",
        "\n",
        "#y = x > 0\n",
        "y = np.array(x > 0)\n",
        "print(y)"
      ],
      "execution_count": null,
      "outputs": [
        {
          "output_type": "stream",
          "text": [
            "[-1.  1.  2.]\n",
            "[False  True  True]\n"
          ],
          "name": "stdout"
        }
      ]
    },
    {
      "cell_type": "code",
      "metadata": {
        "colab": {
          "base_uri": "https://localhost:8080/"
        },
        "id": "NZcDnEKT3RGr",
        "outputId": "53d15399-f369-45f6-98dc-0aca0ef874f4"
      },
      "source": [
        "y = y. astype(np.int)     #bool 배열을 int 배열로 바꿔준다\n",
        "print(y)"
      ],
      "execution_count": null,
      "outputs": [
        {
          "output_type": "stream",
          "text": [
            "[0 1 1]\n"
          ],
          "name": "stdout"
        }
      ]
    },
    {
      "cell_type": "markdown",
      "metadata": {
        "id": "QE_ubYLc3x1z"
      },
      "source": [
        "##3.2.3 계단 함수의 그래프"
      ]
    },
    {
      "cell_type": "code",
      "metadata": {
        "id": "52US-G96l3IP",
        "colab": {
          "base_uri": "https://localhost:8080/",
          "height": 265
        },
        "outputId": "9369a44c-78a7-417f-bccc-6c7d76d6e81b"
      },
      "source": [
        "import numpy as np\n",
        "import matplotlib.pyplot as plt\n",
        "\n",
        "def step_function(x):\n",
        "  return np.array(x > 0, dtype = np.int)\n",
        "\n",
        "x = np.arange(-5.0, 5.0, 0.1)\n",
        "y = step_function(x)\n",
        "\n",
        "plt.plot(x, y)\n",
        "plt.ylim(-0.1, 1.1)   #y축의 범위지정\n",
        "plt.show()"
      ],
      "execution_count": null,
      "outputs": [
        {
          "output_type": "display_data",
          "data": {
            "image/png": "[encoded data removed]",
            "text/plain": [
              "<Figure size 432x288 with 1 Axes>"
            ]
          },
          "metadata": {
            "tags": [],
            "needs_background": "light"
          }
        }
      ]
    },
    {
      "cell_type": "markdown",
      "metadata": {
        "id": "hNZtIRUy66F_"
      },
      "source": [
        "##3.2.4 시그모이드 함수 구현하기"
      ]
    },
    {
      "cell_type": "code",
      "metadata": {
        "id": "rDwKPjQD7MtM"
      },
      "source": [
        "import numpy as np\n",
        "\n",
        "def sigmoid(x):\n",
        "  return 1 / (1+np.exp(-x))"
      ],
      "execution_count": null,
      "outputs": []
    },
    {
      "cell_type": "code",
      "metadata": {
        "colab": {
          "base_uri": "https://localhost:8080/"
        },
        "id": "nMdDpe-U7TMK",
        "outputId": "864e235b-c3cd-4eec-bf8d-b211e62dbd28"
      },
      "source": [
        "x = np.array([-1.0, 1.0, 2.0])\n",
        "print(sigmoid(x))\n"
      ],
      "execution_count": null,
      "outputs": [
        {
          "output_type": "stream",
          "text": [
            "[0.26894142 0.73105858 0.88079708]\n"
          ],
          "name": "stdout"
        }
      ]
    },
    {
      "cell_type": "code",
      "metadata": {
        "colab": {
          "base_uri": "https://localhost:8080/"
        },
        "id": "q0BQAdhE7a5U",
        "outputId": "9d2ed9fc-5778-43cd-b969-fa9fbf338bdf"
      },
      "source": [
        "t = np.array([1.0, 2.0, 3.0])\n",
        "print(1.0 + t)\n",
        "print(1.0 / t)\n"
      ],
      "execution_count": null,
      "outputs": [
        {
          "output_type": "stream",
          "text": [
            "[2. 3. 4.]\n",
            "[1.         0.5        0.33333333]\n"
          ],
          "name": "stdout"
        }
      ]
    },
    {
      "cell_type": "code",
      "metadata": {
        "id": "MzXhmi8inQos",
        "colab": {
          "base_uri": "https://localhost:8080/",
          "height": 318
        },
        "outputId": "1c8dbf9c-77e9-4a88-b005-c519d1136e26"
      },
      "source": [
        "import matplotlib.pyplot as plt\n",
        "import numpy as np\n",
        "\n",
        "\n",
        "x= np.arange(-5.0, 5.0, 0.1)\n",
        "y1 = sigmoid(x)\n",
        "\n",
        "plt.plot(x, y1 )\n",
        "plt.ylim(-0.1, 1.1)\n",
        "\n",
        "y2 = step_function(x)\n",
        "\n",
        "plt.plot(x ,y2, linestyle = '--')\n",
        "plt.ylim(-0.1, 1.1)   #y축의 범위지정\n",
        "plt.show()"
      ],
      "execution_count": null,
      "outputs": [
        {
          "output_type": "stream",
          "text": [
            "[0.26894142 0.73105858 0.88079708]\n",
            "[2. 3. 4.]\n",
            "[1.         0.5        0.33333333]\n"
          ],
          "name": "stdout"
        },
        {
          "output_type": "display_data",
          "data": {
            "image/png": "[encoded data removed]",
            "text/plain": [
              "<Figure size 432x288 with 1 Axes>"
            ]
          },
          "metadata": {
            "tags": [],
            "needs_background": "light"
          }
        }
      ]
    },
    {
      "cell_type": "markdown",
      "metadata": {
        "id": "4e11moZG73d4"
      },
      "source": [
        "*   앞에서 한 계단함수, 시그모이드 함수는 비선형 함수이다\n",
        "*   신경망에서는 활성화 함수로 비선형 함수를 사용 해야한다."
      ]
    },
    {
      "cell_type": "markdown",
      "metadata": {
        "id": "gg6IOZuY7xeq"
      },
      "source": [
        "##3.2.7 ReLU 함수"
      ]
    },
    {
      "cell_type": "code",
      "metadata": {
        "id": "XxSk1qJRoAMh",
        "colab": {
          "base_uri": "https://localhost:8080/",
          "height": 265
        },
        "outputId": "a194b5ce-8971-4a15-8166-a47be56cfcd6"
      },
      "source": [
        "def relu(x):\n",
        "  return np.maximum(0, x)\n",
        "\n",
        "x = np.arange(-6.0, 6.0, 2)\n",
        "y = relu(x)\n",
        "\n",
        "plt.plot(x, y)\n",
        "plt.show()"
      ],
      "execution_count": null,
      "outputs": [
        {
          "output_type": "display_data",
          "data": {
            "image/png": "[encoded data removed]",
            "text/plain": [
              "<Figure size 432x288 with 1 Axes>"
            ]
          },
          "metadata": {
            "tags": [],
            "needs_background": "light"
          }
        }
      ]
    },
    {
      "cell_type": "markdown",
      "metadata": {
        "id": "QYShNzvk8TOH"
      },
      "source": [
        "##3.3 다차원 배열의 계산"
      ]
    },
    {
      "cell_type": "markdown",
      "metadata": {
        "id": "c5b-Q_Al8V9x"
      },
      "source": [
        "##3.3.1 다차원 배열"
      ]
    },
    {
      "cell_type": "code",
      "metadata": {
        "id": "7Jbq6h-yr9gd",
        "colab": {
          "base_uri": "https://localhost:8080/"
        },
        "outputId": "6aab94bc-09a4-44d0-d87c-a749d388c21f"
      },
      "source": [
        "import numpy as np\n",
        "\n",
        "A = np.array([1, 2, 3, 4])\n",
        "print(A)\n",
        "print(np.ndim(A))\n",
        "print(A.shape)        # 4X1\n",
        "print(A.shape[0])     # 0번째 차원(행) 원소의 갯수/ 1이라면 열을 의미\n"
      ],
      "execution_count": null,
      "outputs": [
        {
          "output_type": "stream",
          "text": [
            "[1 2 3 4]\n",
            "1\n",
            "(4,)\n",
            "4\n"
          ],
          "name": "stdout"
        }
      ]
    },
    {
      "cell_type": "code",
      "metadata": {
        "id": "0rD4vrbEsZDh",
        "colab": {
          "base_uri": "https://localhost:8080/"
        },
        "outputId": "da93c6ba-6d8d-4174-9332-513983d65f4c"
      },
      "source": [
        "B = np.array([[1,2], [3,4], [5,6]])\n",
        "\n",
        "print(B)\n",
        "print(np.ndim(B))\n",
        "print(B.shape)\n",
        "print(B.shape[0])\n",
        "print(B.shape[1])"
      ],
      "execution_count": null,
      "outputs": [
        {
          "output_type": "stream",
          "text": [
            "[[1 2]\n",
            " [3 4]\n",
            " [5 6]]\n",
            "2\n",
            "(3, 2)\n",
            "3\n",
            "2\n"
          ],
          "name": "stdout"
        }
      ]
    },
    {
      "cell_type": "markdown",
      "metadata": {
        "id": "pO_it03R9eNs"
      },
      "source": [
        "##3.3.2 행렬의 곱"
      ]
    },
    {
      "cell_type": "markdown",
      "metadata": {
        "id": "YiCHqve_UCzP"
      },
      "source": [
        "* dot()\n",
        "* @, matmul()"
      ]
    },
    {
      "cell_type": "markdown",
      "metadata": {
        "id": "wayeQp6OUOO4"
      },
      "source": [
        "* 2차원 이하에서는 두 연산의 결과가 같지만 아니면 다르다\n",
        "* 이 책에서는 dot()쓰자"
      ]
    },
    {
      "cell_type": "code",
      "metadata": {
        "id": "N9HRWHcjsxZK",
        "colab": {
          "base_uri": "https://localhost:8080/",
          "height": 87
        },
        "outputId": "1bd2a8de-31e8-4f6b-c25e-7a44faaba20d"
      },
      "source": [
        "A = np.array([[1, 2], [3,4]])\n",
        "print(A.shape)\n",
        "B = np.array([[5, 6], [7,8]])\n",
        "print(B.shape)\n",
        "print(np.dot(A, B))     # 내가 아는 행렬 곱"
      ],
      "execution_count": null,
      "outputs": [
        {
          "output_type": "stream",
          "text": [
            "(2, 2)\n",
            "(2, 2)\n",
            "[[19 22]\n",
            " [43 50]]\n"
          ],
          "name": "stdout"
        }
      ]
    },
    {
      "cell_type": "code",
      "metadata": {
        "colab": {
          "base_uri": "https://localhost:8080/"
        },
        "id": "EgAo_10ldlbX",
        "outputId": "3715f65f-f861-42fb-d701-e9df04265d0f"
      },
      "source": [
        "import numpy as np\n",
        "\n",
        "A = np.array([[1, 2, 3], [4, 5, 6]])\n",
        "print(A.shape)\n",
        "\n",
        "B = np.array([[1, 2], [3, 4], [5, 6]])\n",
        "print(B.shape)\n",
        "\n",
        "print(np.dot(A, B))"
      ],
      "execution_count": null,
      "outputs": [
        {
          "output_type": "stream",
          "text": [
            "(2, 3)\n",
            "(3, 2)\n",
            "[[22 28]\n",
            " [49 64]]\n"
          ],
          "name": "stdout"
        }
      ]
    },
    {
      "cell_type": "code",
      "metadata": {
        "colab": {
          "base_uri": "https://localhost:8080/"
        },
        "id": "A2NYV3lqeAzo",
        "outputId": "0bae69ad-c1f0-49d5-a6a4-689497ffb072"
      },
      "source": [
        "import numpy as np\n",
        "\n",
        "A = np.array([[1, 2], [3, 4], [5, 6]])\n",
        "print(A.shape)\n",
        "\n",
        "B = np.array([7, 8])\n",
        "print(B.shape)\n",
        "\n",
        "print(np.dot(A, B))"
      ],
      "execution_count": null,
      "outputs": [
        {
          "output_type": "stream",
          "text": [
            "(3, 2)\n",
            "(2,)\n",
            "[23 53 83]\n"
          ],
          "name": "stdout"
        }
      ]
    },
    {
      "cell_type": "markdown",
      "metadata": {
        "id": "nujP3h0gdgwS"
      },
      "source": [
        "##3.3.3 신경망에서의 행렬 곱"
      ]
    },
    {
      "cell_type": "code",
      "metadata": {
        "id": "9pPZtHyLuQRb",
        "colab": {
          "base_uri": "https://localhost:8080/",
          "height": 122
        },
        "outputId": "b9d280fc-9ba4-4958-beac-4fa2b5454453"
      },
      "source": [
        "X = np.array([1, 2])\n",
        "print(X)\n",
        "print(X.shape)\n",
        "\n",
        "W = np.array([[1, 3, 5], [2, 4, 6]])\n",
        "print(W)\n",
        "print(W.shape)\n",
        "\n",
        "Y = np.dot(X, W)\n",
        "print(Y)"
      ],
      "execution_count": null,
      "outputs": [
        {
          "output_type": "stream",
          "text": [
            "[1 2]\n",
            "(2,)\n",
            "[[1 3 5]\n",
            " [2 4 6]]\n",
            "(2, 3)\n",
            "[ 5 11 17]\n"
          ],
          "name": "stdout"
        }
      ]
    },
    {
      "cell_type": "markdown",
      "metadata": {
        "id": "iahtK0hZfPZZ"
      },
      "source": [
        "##3.4 3층 신경망 구현하기"
      ]
    },
    {
      "cell_type": "markdown",
      "metadata": {
        "id": "s5sX6sEYf5sp"
      },
      "source": [
        "##3.4.2 각 층의 신호 전달 구현하기"
      ]
    },
    {
      "cell_type": "code",
      "metadata": {
        "id": "Rr9siQlRvXEN",
        "colab": {
          "base_uri": "https://localhost:8080/",
          "height": 158
        },
        "outputId": "0ef27e2f-8ecf-4ef9-96cd-64399b0c21b5"
      },
      "source": [
        "X = np.array([1.0, 0.5])\n",
        "W1 = np.array([[0.1, 0.3, 0.5], [0.2, 0.4, 0.6]])\n",
        "B1 = np.array([0.1, 0.2, 0.3])\n",
        "\n",
        "print(W1.shape) #(2, 3)\n",
        "print(X.shape)  #(2,)\n",
        "print(B1.shape) #(3,)\n",
        "\n",
        "A1 = np.dot(X, W1) + B1\n",
        "Z1 = sigmoid(A1)\n",
        "\n",
        "print(A1) # [0.3, 0.7, 1.1]\n",
        "print(Z1) # [0.57444252, 0.66818777, 0.75026011]\n",
        "\n",
        "W2 = np.array([[0.1, 0.4], [0.2, 0.5], [0.3, 0.6]])\n",
        "B2 = np.array([0.1, 0.2])\n",
        "\n",
        "print(Z1.shape)\n",
        "print(W2.shape)\n",
        "print(B2.shape)\n",
        "\n",
        "A2 = np.dot(Z1, W2) + B2\n",
        "Z2 = sigmoid(A2)\n",
        "\n",
        "def identity_function(x):           # 출력층의 활성화 함수로 이용\n",
        "  return x\n",
        "\n",
        "W3 = np.array([[0.1, 0.3], [0.2, 0.4]])\n",
        "B3 = np.array([0.1, 0.2])\n",
        "\n",
        "A3 = np.dot(Z2, W3) + B3\n",
        "Y = identity_function(A3)"
      ],
      "execution_count": null,
      "outputs": [
        {
          "output_type": "stream",
          "text": [
            "(2, 3)\n",
            "(2,)\n",
            "(3,)\n",
            "[0.3 0.7 1.1]\n",
            "[0.57444252 0.66818777 0.75026011]\n",
            "(3,)\n",
            "(3, 2)\n",
            "(2,)\n"
          ],
          "name": "stdout"
        }
      ]
    },
    {
      "cell_type": "markdown",
      "metadata": {
        "id": "0E4DnrlWgHyL"
      },
      "source": [
        "##3.4.3 구현 정리 "
      ]
    },
    {
      "cell_type": "code",
      "metadata": {
        "id": "spuQua9h529z",
        "colab": {
          "base_uri": "https://localhost:8080/",
          "height": 34
        },
        "outputId": "391eaff4-767a-41c5-e549-bd431829815d"
      },
      "source": [
        "def identity_function(x):\n",
        "  return x\n",
        "\n",
        "def init_network():               # 가중치와 편향을 초기화하고 이들을 딕셔너리인 network에 저장\n",
        "  network = {}\n",
        "  network['W1'] = np.array([[0.1, 0.3, 0.5], [0.2, 0.4, 0.6]])\n",
        "  network['b1'] = np.array([0.1, 0.2, 0.3])\n",
        "  network['W2'] = np.array([[0.1, 0.4],[0.2, 0.5], [0.3, 0.6]])\n",
        "  network['b2'] = np.array([0.1, 0.2])\n",
        "  network['W3'] = np.array([[0.1, 0.3], [0.2, 0.4]])\n",
        "  network['b3'] = np.array([0.1, 0.2])\n",
        "\n",
        "  return network\n",
        "\n",
        "def forward(network, x):\n",
        "    W1, W2, W3 = network['W1'], network['W2'], network['W3']\n",
        "    b1, b2, b3 = network['b1'], network['b2'], network['b3']\n",
        "\n",
        "    #입력층 => 1층\n",
        "    a1 = np.dot(x,W1)  + b1\n",
        "    z1 = sigmoid(a1)\n",
        "    #1층 => 2층\n",
        "    a2 = np.dot(z1, W2) +b2\n",
        "    z2 = sigmoid(a2)\n",
        "    #2층 => 3층\n",
        "    a3 = np.dot(z2, W3) + b3\n",
        "    y = identity_function(a3)\n",
        "\n",
        "  return y\n",
        "\n",
        "network = init_network()        #신경망 초기화\n",
        "x = np.array([1.0, 0.5])        #입력\n",
        "y = forward(network, x)\n",
        "print(y)"
      ],
      "execution_count": null,
      "outputs": [
        {
          "output_type": "stream",
          "text": [
            "[0.31682708 0.69627909]\n"
          ],
          "name": "stdout"
        }
      ]
    },
    {
      "cell_type": "markdown",
      "metadata": {
        "id": "iAqMncZjguG1"
      },
      "source": [
        "##3.5 출력층 설계하기"
      ]
    },
    {
      "cell_type": "markdown",
      "metadata": {
        "id": "uDf0GqcDg8kL"
      },
      "source": [
        "*   분류냐 회귀에 따라 출력층에서 사용하는 활성화 함수가 달라진다.\n",
        "*   소프트맥스 함수는 **분류**에서 사용"
      ]
    },
    {
      "cell_type": "markdown",
      "metadata": {
        "id": "kclzuI8aBSJ9"
      },
      "source": [
        "##3.5.1 항등 함수와 소프트맥스 함수 구현하기\n",
        "\n",
        "\n",
        "\n",
        "\n",
        "\n",
        "\n"
      ]
    },
    {
      "cell_type": "markdown",
      "metadata": {
        "id": "h03yNPEniAan"
      },
      "source": [
        "![캡처.PNG](data:image/png;base64,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)"
      ]
    },
    {
      "cell_type": "markdown",
      "metadata": {
        "id": "PLAjF6y-iF5L"
      },
      "source": [
        "^소프트맥스 함수 식,  ak는 k번째 입력신호\n",
        "\n",
        "\n"
      ]
    },
    {
      "cell_type": "markdown",
      "metadata": {
        "id": "2a_jqLQwZBx8"
      },
      "source": [
        "*소프트맥스의 출력은 모든 입력 신호로부터 화살표를 받는다."
      ]
    },
    {
      "cell_type": "code",
      "metadata": {
        "id": "BD7QRqj38Hfj",
        "colab": {
          "base_uri": "https://localhost:8080/",
          "height": 70
        },
        "outputId": "d4bdd33e-0c84-4c5b-df33-28d6bb58d315"
      },
      "source": [
        "import numpy as np\n",
        "\n",
        "a = np.array([0.3, 2.9, 4.0])\n",
        "exp_a = np.exp(a)\n",
        "print(exp_a)\n",
        "\n",
        "sum_exp_a = np.sum(exp_a)\n",
        "print(sum_exp_a)\n",
        "\n",
        "y = exp_a / sum_exp_a\n",
        "print(y)"
      ],
      "execution_count": null,
      "outputs": [
        {
          "output_type": "stream",
          "text": [
            "[ 1.34985881 18.17414537 54.59815003]\n",
            "74.1221542101633\n",
            "[0.01821127 0.24519181 0.73659691]\n"
          ],
          "name": "stdout"
        }
      ]
    },
    {
      "cell_type": "code",
      "metadata": {
        "id": "5n0NhZ3tCEeI"
      },
      "source": [
        "def softmax(a):\n",
        "  exp_a = np.exp(a)\n",
        "  sum_exp_a = np.sum(exp_a)\n",
        "  y = exp_a / sum_exp_a\n",
        " \n",
        "  return y"
      ],
      "execution_count": null,
      "outputs": []
    },
    {
      "cell_type": "markdown",
      "metadata": {
        "id": "WuTu0i5SNpuZ"
      },
      "source": [
        "##3.5.2 소프트맥스 함수 구현 시 주의점"
      ]
    },
    {
      "cell_type": "code",
      "metadata": {
        "id": "w255w9SB-NOQ",
        "colab": {
          "base_uri": "https://localhost:8080/",
          "height": 140
        },
        "outputId": "728d5be2-6509-401b-d904-68528d7bf032"
      },
      "source": [
        "a = np.array([1010, 1000, 990])\n",
        "print(np.exp(a) / np.sum(np.exp(a)))\n",
        "\n",
        "c = np.max(a)\n",
        "print(a - c)\n",
        "print(np.exp(a - c) / np.sum(np.exp(a - c)))\n"
      ],
      "execution_count": null,
      "outputs": [
        {
          "output_type": "stream",
          "text": [
            "[nan nan nan]\n",
            "[  0 -10 -20]\n",
            "[9.99954600e-01 4.53978686e-05 2.06106005e-09]\n"
          ],
          "name": "stdout"
        },
        {
          "output_type": "stream",
          "text": [
            "/usr/local/lib/python3.6/dist-packages/ipykernel_launcher.py:2: RuntimeWarning: overflow encountered in exp\n",
            "  \n",
            "/usr/local/lib/python3.6/dist-packages/ipykernel_launcher.py:2: RuntimeWarning: invalid value encountered in true_divide\n",
            "  \n"
          ],
          "name": "stderr"
        }
      ]
    },
    {
      "cell_type": "code",
      "metadata": {
        "id": "d4ftBcjj_SJf"
      },
      "source": [
        "def softmax(a):\n",
        "  c = np.max(a)\n",
        "  exp_a = np.exp(a - c)\n",
        "  sum_exp_a = np.sum(exp_a)\n",
        "  y = exp_a / sum_exp_a\n",
        " \n",
        "  return y"
      ],
      "execution_count": null,
      "outputs": []
    },
    {
      "cell_type": "markdown",
      "metadata": {
        "id": "uDv2-W8ZOBt3"
      },
      "source": [
        "##3.6.1 MNIST 테이터셋"
      ]
    },
    {
      "cell_type": "code",
      "metadata": {
        "id": "8X5awvT7gOn3"
      },
      "source": [
        "import sys\n",
        "import os"
      ],
      "execution_count": null,
      "outputs": []
    },
    {
      "cell_type": "markdown",
      "metadata": {
        "id": "6UE4DrgcfnXH"
      },
      "source": [
        "이미 학습된 매개변수(가중치, 편향)을 사용해 학습 과정 생략, 추론 과정(순전파)만 구현해서 손글씨 숫자 분류를 해보겠다."
      ]
    },
    {
      "cell_type": "code",
      "metadata": {
        "colab": {
          "base_uri": "https://localhost:8080/"
        },
        "id": "oeGnCO41gGCg",
        "outputId": "fee1d117-4854-45cb-c581-7aaefb7cd3a0"
      },
      "source": [
        "current = os.getcwd()       #os.getcwd()는 현재 디렉토리를 바환한다.\n",
        "print(current)"
      ],
      "execution_count": null,
      "outputs": [
        {
          "output_type": "stream",
          "text": [
            "/content\n"
          ],
          "name": "stdout"
        }
      ]
    },
    {
      "cell_type": "code",
      "metadata": {
        "colab": {
          "base_uri": "https://localhost:8080/"
        },
        "id": "BOforF4Mg83F",
        "outputId": "bdb55086-71f9-4472-c3dd-83063cf5fa1e"
      },
      "source": [
        "sys.path        #현재 기준에서 파이썬 라이브러리들 중 설치된 것들 확인"
      ],
      "execution_count": null,
      "outputs": [
        {
          "output_type": "execute_result",
          "data": {
            "text/plain": [
              "['',\n",
              " '/content',\n",
              " '/env/python',\n",
              " '/usr/lib/python37.zip',\n",
              " '/usr/lib/python3.7',\n",
              " '/usr/lib/python3.7/lib-dynload',\n",
              " '/usr/local/lib/python3.7/dist-packages',\n",
              " '/usr/lib/python3/dist-packages',\n",
              " '/usr/local/lib/python3.7/dist-packages/IPython/extensions',\n",
              " '/root/.ipython',\n",
              " '/content/drive/My Drive/Colab Notebooks/deep-learning-from-scratch-master']"
            ]
          },
          "metadata": {
            "tags": []
          },
          "execution_count": 7
        }
      ]
    },
    {
      "cell_type": "markdown",
      "metadata": {
        "id": "uZZZNtsKjsq-"
      },
      "source": [
        "* 이미지는 정규화 하는게 좋다 0~225 값은 너무 차이나서"
      ]
    },
    {
      "cell_type": "code",
      "metadata": {
        "id": "d9RCEnNa_o8P",
        "colab": {
          "base_uri": "https://localhost:8080/"
        },
        "outputId": "1eb6b737-a8b0-4a0e-db6c-05db4fb1a36a"
      },
      "source": [
        "import pickle\n",
        "import sys, os\n",
        "\n",
        "path = \"/content/drive/My Drive/Colab Notebooks/deep-learning-from-scratch-master\"\n",
        "os.chdir(path)\n",
        "sys.path.append('/content/drive/My Drive/Colab Notebooks/deep-learning-from-scratch-master')\n",
        "\n",
        "from dataset.mnist import load_mnist\n",
        "\n",
        "#각 이미지에는  '7', '2', '1'과 같이 그 이미지가 실제 의미하는 숫자가 레이블로 붙어있다.\n",
        "# x가 이미지, t가 레이블\n",
        "\n",
        "# return (dataset['train_img'], dataset['train_label']), (dataset['test_img'], dataset['test_label']) \n",
        "(x_train, t_train), (x_test, t_test) = load_mnist(flatten = True, normalize = False)\n",
        "#(훈련 이미지, 훈련 레이블), (시험 이미지, 시험 레이블)\n",
        "\n",
        "\n",
        "print(x_train.shape) #(60000, 784)      육만개의 이미지를 flatten한거\n",
        "print(t_train.shape)  #(60000,)\n",
        "print(x_test.shape) #(10000, 784)\n",
        "print(t_test.shape) #(10000, )"
      ],
      "execution_count": null,
      "outputs": [
        {
          "output_type": "stream",
          "text": [
            "(60000, 784)\n",
            "(60000,)\n",
            "(10000, 784)\n",
            "(10000,)\n"
          ],
          "name": "stdout"
        }
      ]
    },
    {
      "cell_type": "code",
      "metadata": {
        "id": "9u91LeGFHAF9",
        "colab": {
          "base_uri": "https://localhost:8080/",
          "height": 318
        },
        "outputId": "a8363fd9-e7db-460e-d9ca-e4d1aee41af0"
      },
      "source": [
        "import sys,os\n",
        "import pickle\n",
        "\n",
        "os.chdir(\"/content/drive/My Drive/Colab Notebooks/deep-learning-from-scratch-master\")\n",
        "sys.path.append('/content/drive/My Drive/Colab Notebooks/deep-learning-from-scratch-master')\n",
        "\n",
        "from dataset.mnist import load_mnist\n",
        "from PIL import Image\n",
        "from matplotlib.pyplot import imshow\n",
        "import matplotlib.pyplot as plt\n",
        "\n",
        "%matplotlib inline\n",
        "\n",
        "def img_show(img):\n",
        "  pil_img = Image.fromarray(np.uint8(img))\n",
        " # piㅣ_img.show()\n",
        "  imshow(np.asarray(pil_img))\n",
        "  plt.show()\n",
        "\n",
        "(x_train, t_train), (x_test, t_test) = load_mnist(flatten = True, normalize = False)\n",
        "\n",
        "img = x_train[0]\n",
        "label = t_train[0]\n",
        "print(label)  #5\n",
        "\n",
        "print(img.shape)  #(784, )\n",
        "img = img.reshape(28,28)  #원래 이미지의 모양으로 변형\n",
        "print(img.shape)    #(28, 28)\n",
        "\n",
        "img_show(img)\n",
        "\n"
      ],
      "execution_count": null,
      "outputs": [
        {
          "output_type": "stream",
          "text": [
            "5\n",
            "(784,)\n",
            "(28, 28)\n"
          ],
          "name": "stdout"
        },
        {
          "output_type": "display_data",
          "data": {
            "image/png": "[encoded data removed]",
            "text/plain": [
              "<Figure size 432x288 with 1 Axes>"
            ]
          },
          "metadata": {
            "tags": [],
            "needs_background": "light"
          }
        }
      ]
    },
    {
      "cell_type": "markdown",
      "metadata": {
        "id": "tG1e45nzOUqv"
      },
      "source": [
        "##3.6.2 신경망의 추론 처리"
      ]
    },
    {
      "cell_type": "code",
      "metadata": {
        "id": "UHrk52DZLHGa"
      },
      "source": [
        "import pickle\n",
        "import sys, os\n",
        "\n",
        "os.chdir(\"/content/drive/My Drive/Colab Notebooks/deep-learning-from-scratch-master/ch03\")\n",
        "sys.path.append('/content/drive/My Drive/Colab Notebooks/deep-learning-from-scratch-master/ch03')\n",
        "\n",
        "from dataset.mnist import load_mnist\n",
        "\n",
        "def softmax(a):\n",
        "  c = np.max(a)\n",
        "  exp_a = np.exp(a - c)\n",
        "  sum_exp_a = np.sum(exp_a)\n",
        "  y = exp_a / sum_exp_a\n",
        " \n",
        "  return y\n",
        "\n",
        "def sigmoid(x):\n",
        "  return 1 / (1+np.exp(-x))\n",
        "\n",
        "def get_data():\n",
        "  (x_train, t_trin), (x_test, t_test) = load_mnist(normalize = True, flatten = True, one_hot_label = False)\n",
        "  return x_test, t_test     #지금 추론을 하는거니까 test만 사용\n",
        "\n",
        "def init_network():\n",
        "  with open(\"sample_weight.pkl\", 'rb') as f:\n",
        "    network = pickle.load(f)\n",
        "\n",
        "  return network\n",
        "\n",
        "def predict(network, x):\n",
        "  \n",
        "  W1, W2, W3 = network['W1'], network['W2'], network['W3']\n",
        "  b1, b2, b3 = network['b1'], network['b2'], network['b3']\n",
        "\n",
        "  a1 = np.dot(x,W1)  + b1\n",
        "  z1 = sigmoid(a1)\n",
        "  a2 = np.dot(z1, W2) +b2\n",
        "  z2 = sigmoid(a2)\n",
        "  a3 = np.dot(z2, W3) + b3\n",
        "  y = softmax(a3)       #우리가 훈련하는게 아니라 추론하는거라서 소프트맥스안해도 젤 큰거는 변하지 않기때문에 사용안해도 ok\n",
        "\n",
        "  return y"
      ],
      "execution_count": null,
      "outputs": []
    },
    {
      "cell_type": "code",
      "metadata": {
        "id": "luB8zXbir1Pp",
        "colab": {
          "base_uri": "https://localhost:8080/"
        },
        "outputId": "e33d9cdf-073f-42ab-c3a4-a264c3ad3846"
      },
      "source": [
        "import numpy as np\n",
        "\n",
        "x, t = get_data()       #테스트 데이터의 이미지, 답\n",
        "network = init_network()        #책이 제공하는 가중치 사용\n",
        "\n",
        "accuracy_cnt = 0\n",
        "for i in range(len(x)):     #10000회\n",
        "  y = predict(network, x[i])\n",
        "  p = np.argmax(y)    # 확률이 가장 높은 원소의 인덱스를 얻는다. 0~9사이의 수를 하나 정함\n",
        "  if p == t[i]:         #위에서 추정한것과 진짜 답을 비교해서 맞으면 맞은 갯수 올린다.\n",
        "    accuracy_cnt +=1\n",
        "\n",
        "print(\"Accuracy:\" + str(float(accuracy_cnt) / len(x)))"
      ],
      "execution_count": null,
      "outputs": [
        {
          "output_type": "stream",
          "text": [
            "Accuracy:0.9352\n"
          ],
          "name": "stdout"
        }
      ]
    },
    {
      "cell_type": "markdown",
      "metadata": {
        "id": "-9YQRG9_Onan"
      },
      "source": [
        "##3.6.3 배치처리"
      ]
    },
    {
      "cell_type": "code",
      "metadata": {
        "id": "6wW8ocp8s-9_",
        "colab": {
          "base_uri": "https://localhost:8080/"
        },
        "outputId": "18cb444e-f835-47b5-97f0-332353ce8a79"
      },
      "source": [
        "x, _  = get_data()      # t_test는 필요 없어서 \n",
        "network = init_network()    #가중치 불러오기\n",
        "W1, W2, W3 = network['W1'], network['W2'], network['W3']\n",
        "print(x.shape)\n",
        "print(W1.shape)\n",
        "print(W2.shape)\n",
        "print(W3.shape)"
      ],
      "execution_count": null,
      "outputs": [
        {
          "output_type": "stream",
          "text": [
            "(10000, 784)\n",
            "(784, 50)\n",
            "(50, 100)\n",
            "(100, 10)\n"
          ],
          "name": "stdout"
        }
      ]
    },
    {
      "cell_type": "code",
      "metadata": {
        "id": "U5EMx0rL0nPI",
        "colab": {
          "base_uri": "https://localhost:8080/",
          "height": 34
        },
        "outputId": "a3c624a7-39b6-4a3d-a242-6c5b2064c04e"
      },
      "source": [
        "import numpy as np\n",
        "\n",
        "x, t = get_data()       #추론하는거니까 test만\n",
        "network = init_network()    #가중치 가져오기\n",
        "\n",
        "batch_size  = 100\n",
        "accuracy_cnt = 0\n",
        "\n",
        "for i in range(0,len(x), batch_size):       #0부터 10000까지 100단위로 올려서 for문 돌리기\n",
        "  x_batch = x[i: i+batch_size]\n",
        "  y_batch = predict(network,x_batch)\n",
        "  p = np.argmax(y_batch, axis = 1)\n",
        "  accuracy_cnt += np.sum(p == t[i: i+batch_size])\n",
        "\n",
        "\n",
        "print(\"Accuracy:\" + str(float(accuracy_cnt) / len(x)))"
      ],
      "execution_count": null,
      "outputs": [
        {
          "output_type": "stream",
          "text": [
            "Accuracy:0.9352\n"
          ],
          "name": "stdout"
        }
      ]
    },
    {
      "cell_type": "code",
      "metadata": {
        "id": "ilUdcliz2qg2"
      },
      "source": [
        ""
      ],
      "execution_count": null,
      "outputs": []
    },
    {
      "cell_type": "code",
      "metadata": {
        "id": "39hGwfPRhaCb"
      },
      "source": [
        ""
      ],
      "execution_count": null,
      "outputs": []
    }
  ]
}